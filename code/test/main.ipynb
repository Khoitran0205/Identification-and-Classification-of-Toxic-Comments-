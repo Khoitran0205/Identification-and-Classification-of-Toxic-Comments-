{
 "cells": [
  {
   "cell_type": "code",
   "execution_count": 4,
   "metadata": {},
   "outputs": [],
   "source": [
    "LIST_LABELS = ['toxic', 'severe_toxic', 'obscene', 'threat', 'insult', 'identity_hate']"
   ]
  },
  {
   "cell_type": "code",
   "execution_count": 5,
   "metadata": {},
   "outputs": [],
   "source": [
    "import pickle as pk \n",
    "import numpy as np\n",
    "from text_processing import TextProcessor\n",
    "from text_vectorize import TextVectorizer"
   ]
  },
  {
   "cell_type": "code",
   "execution_count": 6,
   "metadata": {},
   "outputs": [],
   "source": [
    "model = pk.load(open('C:/Workspace/School/Seminar_CNPM/Identification-and-Classification-of-Toxic-Comments-/code/model.pkl','rb'))"
   ]
  },
  {
   "cell_type": "code",
   "execution_count": 52,
   "metadata": {},
   "outputs": [],
   "source": [
    "text_demo = input(\"Enter a text: \")\n",
    "text_processing = TextProcessor()\n",
    "text_token = text_processing.process(text_demo)\n",
    "text_vectorizer = TextVectorizer()\n",
    "arr_text  = text_vectorizer.process(text_token)"
   ]
  },
  {
   "cell_type": "code",
   "execution_count": 53,
   "metadata": {},
   "outputs": [
    {
     "name": "stdout",
     "output_type": "stream",
     "text": [
      "toxic : 0\n",
      "severe_toxic : 0\n",
      "obscene : 0\n",
      "threat : 0\n",
      "insult : 0\n",
      "identity_hate : 0\n"
     ]
    }
   ],
   "source": [
    "result_predict = model.predict(np.reshape(arr_text,(1,-1)))\n",
    "for i in range(len(LIST_LABELS)):\n",
    "    print(LIST_LABELS[i], ':', result_predict[0][i])"
   ]
  }
 ],
 "metadata": {
  "kernelspec": {
   "display_name": "Python 3",
   "language": "python",
   "name": "python3"
  },
  "language_info": {
   "codemirror_mode": {
    "name": "ipython",
    "version": 3
   },
   "file_extension": ".py",
   "mimetype": "text/x-python",
   "name": "python",
   "nbconvert_exporter": "python",
   "pygments_lexer": "ipython3",
   "version": "3.10.11"
  }
 },
 "nbformat": 4,
 "nbformat_minor": 2
}
